{
 "cells": [
  {
   "cell_type": "markdown",
   "metadata": {},
   "source": [
    "# 2015 Yellow Taxi Trip Data"
   ]
  },
  {
   "cell_type": "markdown",
   "metadata": {},
   "source": [
    "## Declare Libraries, Parameters and other helper functions that i made"
   ]
  },
  {
   "cell_type": "code",
   "execution_count": 45,
   "metadata": {},
   "outputs": [],
   "source": [
    "#load libraries\n",
    "import pandas as pd\n",
    "import numpy as np\n",
    "import json\n",
    "import requests \n",
    "import os\n",
    "import sys\n",
    "import matplotlib.pyplot as plt\n",
    "from sodapy import Socrata\n",
    "from subprocess import call\n",
    "\n",
    "#declare parameters\n",
    "url=\"https://data.cityofnewyork.us/resource/2yzn-sicd.json\"\n",
    "%matplotlib inline\n",
    "\n",
    "#declare environmental variable\n",
    "puidata = os.getenv(\"PUIDATA\")\n",
    "if puidata is None:\n",
    "    os.environ[\"PUIDATA\"] = \"%s/PUIdata\"%os.getenv(\"HOME\")\n",
    "    puidata = os.getenv(\"PUIDATA\")\n",
    "\n",
    "#create function to download file but checks if file already exists\n",
    "#def download_check(url,path):\n",
    "#    name = url.split('/')[-1]\n",
    "#    filename=path+\"/\"+name\n",
    "#    if os.path.isfile(filename)==True:\n",
    "        #loads from existing csv file and returns a pandas dataframe\n",
    "#        print('File exists, Please proceed to the next step')\n",
    "#    else:\n",
    "#        download=\"wget \"+url\n",
    "#        unzip=\"gzip -d url > \"+puidata\n",
    "#        call(download)\n",
    "#        call(unzip)\n",
    "    \n",
    "#create function to load a json file to pandas and creates a local copy if it hasn't been made\n",
    "def json_to_pandas(url,path):\n",
    "    #declare parameters\n",
    "    name = url.split('/')[-1].replace(\".json\",\".csv\")\n",
    "    filename=path+\"/\"+name\n",
    "    #checks if local file exists\n",
    "    if os.path.isfile(filename)==True:\n",
    "        #loads from existing csv file and returns a pandas dataframe\n",
    "        print('File exists, Please proceed to the next step')\n",
    "        return pd.read_csv(filename,encoding='utf-8') \n",
    "    else:\n",
    "        try:\n",
    "            #json=pd.read_json(json_file,orient=)\n",
    "            #js_file=pd.read_json(url)\n",
    "            client = Socrata(\"data.cityofnewyork.us\", None)\n",
    "            results = client.get(\"2yzn-sicd\",limit=500000)\n",
    "            js_file = pd.DataFrame.from_records(results)\n",
    "            try:\n",
    "                print('exporting json to {}'.format(filename))\n",
    "                js_file.to_csv(filename,header=True, index=False, encoding='utf-8')\n",
    "                print('successfully downloaded into pandas dataframe and exported to csv')\n",
    "            except:\n",
    "                print(\"Pandas has encountered an error with exporting to csv\")\n",
    "            finally:\n",
    "                return js_file\n",
    "        except:\n",
    "            print(\"Pandas has encountered an error with reading the json file\")"
   ]
  },
  {
   "cell_type": "markdown",
   "metadata": {},
   "source": [
    "# Download dataset\n",
    "The dataset may take awhile to download as it's atleast 3.0 GB. The zipped file is being redirected at PUIdata."
   ]
  },
  {
   "cell_type": "code",
   "execution_count": 56,
   "metadata": {},
   "outputs": [
    {
     "name": "stdout",
     "output_type": "stream",
     "text": [
      "--2018-09-25 01:45:33--  https://s3-us-west-2.amazonaws.com/nyctlc/yellow_tripdata_2015-01-06.csv.gz\n",
      "Resolving s3-us-west-2.amazonaws.com (s3-us-west-2.amazonaws.com)... 52.218.209.40\n",
      "Connecting to s3-us-west-2.amazonaws.com (s3-us-west-2.amazonaws.com)|52.218.209.40|:443... connected.\n",
      "HTTP request sent, awaiting response... 200 OK\n",
      "Length: 3056873154 (2.8G) [text/csv]\n",
      "Saving to: ‘STDOUT’\n",
      "\n",
      "-                   100%[===================>]   2.85G  11.3MB/s    in 5m 37s  \n",
      "\n",
      "2018-09-25 01:51:10 (8.66 MB/s) - written to stdout [3056873154/3056873154]\n",
      "\n"
     ]
    }
   ],
   "source": [
    "#download_check(\"https://s3-us-west-2.amazonaws.com/nyctlc/yellow_tripdata_2015-01-06.csv.gz\",puidata)\n",
    "!wget -O - https://s3-us-west-2.amazonaws.com/nyctlc/yellow_tripdata_2015-01-06.csv.gz > $puidata/yellow_tripdata_2015-01-06.csv.gz"
   ]
  },
  {
   "cell_type": "markdown",
   "metadata": {},
   "source": [
    "# Unzip dataset\n",
    "The dataset is being unzipped in the same folder (PUIdata)"
   ]
  },
  {
   "cell_type": "code",
   "execution_count": 59,
   "metadata": {},
   "outputs": [],
   "source": [
    "!gzip -d $puidata/yellow_tripdata_2015-01-06.csv.gz"
   ]
  },
  {
   "cell_type": "markdown",
   "metadata": {},
   "source": [
    "# Load dataset"
   ]
  },
  {
   "cell_type": "code",
   "execution_count": null,
   "metadata": {},
   "outputs": [],
   "source": [
    "yellow_frame=pd.read_csv(puidata+'/yellow_tripdata_2015-01-06.csv',encoding='utf-8')"
   ]
  },
  {
   "cell_type": "markdown",
   "metadata": {},
   "source": [
    "# Reduce dataset to two numerical columns"
   ]
  },
  {
   "cell_type": "code",
   "execution_count": null,
   "metadata": {},
   "outputs": [],
   "source": []
  },
  {
   "cell_type": "markdown",
   "metadata": {},
   "source": [
    "# Plot"
   ]
  },
  {
   "cell_type": "code",
   "execution_count": null,
   "metadata": {},
   "outputs": [],
   "source": []
  },
  {
   "cell_type": "markdown",
   "metadata": {},
   "source": [
    "## Extra Credit"
   ]
  },
  {
   "cell_type": "markdown",
   "metadata": {},
   "source": [
    "## Load data"
   ]
  },
  {
   "cell_type": "code",
   "execution_count": 31,
   "metadata": {},
   "outputs": [
    {
     "name": "stderr",
     "output_type": "stream",
     "text": [
      "WARNING:root:Requests made without an app_token will be subject to strict throttling limits.\n"
     ]
    },
    {
     "name": "stdout",
     "output_type": "stream",
     "text": [
      "Pandas has encountered an error with reading the json file\n"
     ]
    },
    {
     "ename": "TypeError",
     "evalue": "object of type 'NoneType' has no len()",
     "output_type": "error",
     "traceback": [
      "\u001b[0;31m---------------------------------------------------------------------------\u001b[0m",
      "\u001b[0;31mTypeError\u001b[0m                                 Traceback (most recent call last)",
      "\u001b[0;32m<ipython-input-31-28faa6da89bf>\u001b[0m in \u001b[0;36m<module>\u001b[0;34m()\u001b[0m\n\u001b[1;32m      4\u001b[0m \u001b[0;34m\u001b[0m\u001b[0m\n\u001b[1;32m      5\u001b[0m \u001b[0;31m#returns number of rows in file\u001b[0m\u001b[0;34m\u001b[0m\u001b[0;34m\u001b[0m\u001b[0m\n\u001b[0;32m----> 6\u001b[0;31m \u001b[0mprint\u001b[0m\u001b[0;34m(\u001b[0m\u001b[0;34m\"Number of rows included in the dataset \"\u001b[0m \u001b[0;34m+\u001b[0m \u001b[0mstr\u001b[0m\u001b[0;34m(\u001b[0m\u001b[0mlen\u001b[0m\u001b[0;34m(\u001b[0m\u001b[0mtaxi_data\u001b[0m\u001b[0;34m)\u001b[0m\u001b[0;34m)\u001b[0m \u001b[0;34m+\u001b[0m \u001b[0;34m\".\"\u001b[0m\u001b[0;34m)\u001b[0m\u001b[0;34m\u001b[0m\u001b[0m\n\u001b[0m",
      "\u001b[0;31mTypeError\u001b[0m: object of type 'NoneType' has no len()"
     ]
    }
   ],
   "source": [
    "#checks if taxi data is already in the local directory, PUIData and loads it.\n",
    "#Otherwise it downloads the json file and creates a local copy\n",
    "taxi_data=json_to_pandas(url,puidata)\n",
    "\n",
    "#returns number of rows in file\n",
    "print(\"Number of rows included in the dataset \" + str(len(taxi_data)) + \".\")"
   ]
  },
  {
   "cell_type": "markdown",
   "metadata": {},
   "source": [
    "# Show the first eight rows of the dataset"
   ]
  },
  {
   "cell_type": "code",
   "execution_count": 21,
   "metadata": {},
   "outputs": [
    {
     "data": {
      "text/html": [
       "<div>\n",
       "<style scoped>\n",
       "    .dataframe tbody tr th:only-of-type {\n",
       "        vertical-align: middle;\n",
       "    }\n",
       "\n",
       "    .dataframe tbody tr th {\n",
       "        vertical-align: top;\n",
       "    }\n",
       "\n",
       "    .dataframe thead th {\n",
       "        text-align: right;\n",
       "    }\n",
       "</style>\n",
       "<table border=\"1\" class=\"dataframe\">\n",
       "  <thead>\n",
       "    <tr style=\"text-align: right;\">\n",
       "      <th></th>\n",
       "      <th>dropoff_datetime</th>\n",
       "      <th>dropoff_latitude</th>\n",
       "      <th>dropoff_longitude</th>\n",
       "      <th>extra</th>\n",
       "      <th>fare_amount</th>\n",
       "      <th>imp_surcharge</th>\n",
       "      <th>mta_tax</th>\n",
       "      <th>passenger_count</th>\n",
       "      <th>payment_type</th>\n",
       "      <th>pickup_datetime</th>\n",
       "      <th>pickup_latitude</th>\n",
       "      <th>pickup_longitude</th>\n",
       "      <th>ratecodeid</th>\n",
       "      <th>store_and_fwd_flag</th>\n",
       "      <th>tip_amount</th>\n",
       "      <th>tolls_amount</th>\n",
       "      <th>total_amount</th>\n",
       "      <th>trip_distance</th>\n",
       "      <th>vendor_id</th>\n",
       "    </tr>\n",
       "  </thead>\n",
       "  <tbody>\n",
       "    <tr>\n",
       "      <th>0</th>\n",
       "      <td>2015-08-13T01:18:07.000</td>\n",
       "      <td>40.750469</td>\n",
       "      <td>-73.994621</td>\n",
       "      <td>0.5</td>\n",
       "      <td>5.0</td>\n",
       "      <td>0.3</td>\n",
       "      <td>0.5</td>\n",
       "      <td>1</td>\n",
       "      <td>1</td>\n",
       "      <td>2015-08-13T01:14:53.000</td>\n",
       "      <td>40.739738</td>\n",
       "      <td>-74.002136</td>\n",
       "      <td>1</td>\n",
       "      <td>N</td>\n",
       "      <td>1.26</td>\n",
       "      <td>0.0</td>\n",
       "      <td>7.56</td>\n",
       "      <td>0.87</td>\n",
       "      <td>2</td>\n",
       "    </tr>\n",
       "    <tr>\n",
       "      <th>1</th>\n",
       "      <td>2015-08-22T03:08:17.000</td>\n",
       "      <td>40.713573</td>\n",
       "      <td>-74.010872</td>\n",
       "      <td>0.5</td>\n",
       "      <td>7.5</td>\n",
       "      <td>0.3</td>\n",
       "      <td>0.5</td>\n",
       "      <td>1</td>\n",
       "      <td>1</td>\n",
       "      <td>2015-08-22T03:00:42.000</td>\n",
       "      <td>40.731010</td>\n",
       "      <td>-73.999680</td>\n",
       "      <td>1</td>\n",
       "      <td>N</td>\n",
       "      <td>1.75</td>\n",
       "      <td>0.0</td>\n",
       "      <td>10.55</td>\n",
       "      <td>1.50</td>\n",
       "      <td>1</td>\n",
       "    </tr>\n",
       "    <tr>\n",
       "      <th>2</th>\n",
       "      <td>2015-08-28T04:12:26.000</td>\n",
       "      <td>40.762718</td>\n",
       "      <td>-73.961067</td>\n",
       "      <td>0.5</td>\n",
       "      <td>9.0</td>\n",
       "      <td>0.3</td>\n",
       "      <td>0.5</td>\n",
       "      <td>1</td>\n",
       "      <td>2</td>\n",
       "      <td>2015-08-28T04:04:34.000</td>\n",
       "      <td>40.736710</td>\n",
       "      <td>-73.984802</td>\n",
       "      <td>1</td>\n",
       "      <td>N</td>\n",
       "      <td>0.00</td>\n",
       "      <td>0.0</td>\n",
       "      <td>10.30</td>\n",
       "      <td>2.47</td>\n",
       "      <td>2</td>\n",
       "    </tr>\n",
       "    <tr>\n",
       "      <th>3</th>\n",
       "      <td>2015-08-16T21:58:25.000</td>\n",
       "      <td>40.789371</td>\n",
       "      <td>-73.979111</td>\n",
       "      <td>0.5</td>\n",
       "      <td>5.0</td>\n",
       "      <td>0.3</td>\n",
       "      <td>0.5</td>\n",
       "      <td>1</td>\n",
       "      <td>1</td>\n",
       "      <td>2015-08-16T21:54:01.000</td>\n",
       "      <td>40.780659</td>\n",
       "      <td>-73.976486</td>\n",
       "      <td>1</td>\n",
       "      <td>N</td>\n",
       "      <td>1.58</td>\n",
       "      <td>0.0</td>\n",
       "      <td>7.88</td>\n",
       "      <td>0.85</td>\n",
       "      <td>2</td>\n",
       "    </tr>\n",
       "    <tr>\n",
       "      <th>4</th>\n",
       "      <td>2015-08-07T22:05:56.000</td>\n",
       "      <td>40.694054</td>\n",
       "      <td>-73.996376</td>\n",
       "      <td>0.5</td>\n",
       "      <td>16.0</td>\n",
       "      <td>0.3</td>\n",
       "      <td>0.5</td>\n",
       "      <td>1</td>\n",
       "      <td>1</td>\n",
       "      <td>2015-08-07T21:50:55.000</td>\n",
       "      <td>40.726871</td>\n",
       "      <td>-73.976913</td>\n",
       "      <td>1</td>\n",
       "      <td>N</td>\n",
       "      <td>3.45</td>\n",
       "      <td>0.0</td>\n",
       "      <td>20.75</td>\n",
       "      <td>4.60</td>\n",
       "      <td>1</td>\n",
       "    </tr>\n",
       "    <tr>\n",
       "      <th>5</th>\n",
       "      <td>2015-08-15T23:51:43.000</td>\n",
       "      <td>40.788300</td>\n",
       "      <td>-73.974548</td>\n",
       "      <td>0.5</td>\n",
       "      <td>5.0</td>\n",
       "      <td>0.3</td>\n",
       "      <td>0.5</td>\n",
       "      <td>1</td>\n",
       "      <td>1</td>\n",
       "      <td>2015-08-15T23:49:06.000</td>\n",
       "      <td>40.773994</td>\n",
       "      <td>-73.985107</td>\n",
       "      <td>1</td>\n",
       "      <td>N</td>\n",
       "      <td>3.00</td>\n",
       "      <td>0.0</td>\n",
       "      <td>9.30</td>\n",
       "      <td>1.20</td>\n",
       "      <td>1</td>\n",
       "    </tr>\n",
       "    <tr>\n",
       "      <th>6</th>\n",
       "      <td>2015-08-04T19:51:21.000</td>\n",
       "      <td>40.776188</td>\n",
       "      <td>-73.947517</td>\n",
       "      <td>1.0</td>\n",
       "      <td>22.5</td>\n",
       "      <td>0.3</td>\n",
       "      <td>0.5</td>\n",
       "      <td>2</td>\n",
       "      <td>1</td>\n",
       "      <td>2015-08-04T19:35:22.000</td>\n",
       "      <td>40.704319</td>\n",
       "      <td>-74.008980</td>\n",
       "      <td>1</td>\n",
       "      <td>N</td>\n",
       "      <td>4.00</td>\n",
       "      <td>0.0</td>\n",
       "      <td>28.30</td>\n",
       "      <td>7.30</td>\n",
       "      <td>1</td>\n",
       "    </tr>\n",
       "    <tr>\n",
       "      <th>7</th>\n",
       "      <td>2015-08-14T18:59:11.000</td>\n",
       "      <td>40.794273</td>\n",
       "      <td>-73.972000</td>\n",
       "      <td>1.0</td>\n",
       "      <td>9.5</td>\n",
       "      <td>0.3</td>\n",
       "      <td>0.5</td>\n",
       "      <td>1</td>\n",
       "      <td>2</td>\n",
       "      <td>2015-08-14T18:49:37.000</td>\n",
       "      <td>40.771709</td>\n",
       "      <td>-73.979263</td>\n",
       "      <td>1</td>\n",
       "      <td>N</td>\n",
       "      <td>0.00</td>\n",
       "      <td>0.0</td>\n",
       "      <td>11.30</td>\n",
       "      <td>2.00</td>\n",
       "      <td>2</td>\n",
       "    </tr>\n",
       "  </tbody>\n",
       "</table>\n",
       "</div>"
      ],
      "text/plain": [
       "          dropoff_datetime  dropoff_latitude  dropoff_longitude  extra  \\\n",
       "0  2015-08-13T01:18:07.000         40.750469         -73.994621    0.5   \n",
       "1  2015-08-22T03:08:17.000         40.713573         -74.010872    0.5   \n",
       "2  2015-08-28T04:12:26.000         40.762718         -73.961067    0.5   \n",
       "3  2015-08-16T21:58:25.000         40.789371         -73.979111    0.5   \n",
       "4  2015-08-07T22:05:56.000         40.694054         -73.996376    0.5   \n",
       "5  2015-08-15T23:51:43.000         40.788300         -73.974548    0.5   \n",
       "6  2015-08-04T19:51:21.000         40.776188         -73.947517    1.0   \n",
       "7  2015-08-14T18:59:11.000         40.794273         -73.972000    1.0   \n",
       "\n",
       "   fare_amount  imp_surcharge  mta_tax  passenger_count  payment_type  \\\n",
       "0          5.0            0.3      0.5                1             1   \n",
       "1          7.5            0.3      0.5                1             1   \n",
       "2          9.0            0.3      0.5                1             2   \n",
       "3          5.0            0.3      0.5                1             1   \n",
       "4         16.0            0.3      0.5                1             1   \n",
       "5          5.0            0.3      0.5                1             1   \n",
       "6         22.5            0.3      0.5                2             1   \n",
       "7          9.5            0.3      0.5                1             2   \n",
       "\n",
       "           pickup_datetime  pickup_latitude  pickup_longitude  ratecodeid  \\\n",
       "0  2015-08-13T01:14:53.000        40.739738        -74.002136           1   \n",
       "1  2015-08-22T03:00:42.000        40.731010        -73.999680           1   \n",
       "2  2015-08-28T04:04:34.000        40.736710        -73.984802           1   \n",
       "3  2015-08-16T21:54:01.000        40.780659        -73.976486           1   \n",
       "4  2015-08-07T21:50:55.000        40.726871        -73.976913           1   \n",
       "5  2015-08-15T23:49:06.000        40.773994        -73.985107           1   \n",
       "6  2015-08-04T19:35:22.000        40.704319        -74.008980           1   \n",
       "7  2015-08-14T18:49:37.000        40.771709        -73.979263           1   \n",
       "\n",
       "  store_and_fwd_flag  tip_amount  tolls_amount  total_amount  trip_distance  \\\n",
       "0                  N        1.26           0.0          7.56           0.87   \n",
       "1                  N        1.75           0.0         10.55           1.50   \n",
       "2                  N        0.00           0.0         10.30           2.47   \n",
       "3                  N        1.58           0.0          7.88           0.85   \n",
       "4                  N        3.45           0.0         20.75           4.60   \n",
       "5                  N        3.00           0.0          9.30           1.20   \n",
       "6                  N        4.00           0.0         28.30           7.30   \n",
       "7                  N        0.00           0.0         11.30           2.00   \n",
       "\n",
       "   vendor_id  \n",
       "0          2  \n",
       "1          1  \n",
       "2          2  \n",
       "3          2  \n",
       "4          1  \n",
       "5          1  \n",
       "6          1  \n",
       "7          2  "
      ]
     },
     "execution_count": 21,
     "metadata": {},
     "output_type": "execute_result"
    }
   ],
   "source": [
    "taxi_data.head(8)"
   ]
  },
  {
   "cell_type": "markdown",
   "metadata": {},
   "source": [
    "# Reduce the dataset to datetime and two numerical columns"
   ]
  },
  {
   "cell_type": "code",
   "execution_count": 22,
   "metadata": {},
   "outputs": [],
   "source": [
    "drop_cols=[x for x in taxi_data.columns.get_values() if x not in ['pickup_datetime','tip_amount']]\n",
    "taxi_data.drop(drop_cols,axis=1,inplace=True)"
   ]
  },
  {
   "cell_type": "markdown",
   "metadata": {},
   "source": [
    "# Show eight rows of reduced dataset"
   ]
  },
  {
   "cell_type": "code",
   "execution_count": 25,
   "metadata": {},
   "outputs": [
    {
     "data": {
      "text/html": [
       "<div>\n",
       "<style scoped>\n",
       "    .dataframe tbody tr th:only-of-type {\n",
       "        vertical-align: middle;\n",
       "    }\n",
       "\n",
       "    .dataframe tbody tr th {\n",
       "        vertical-align: top;\n",
       "    }\n",
       "\n",
       "    .dataframe thead th {\n",
       "        text-align: right;\n",
       "    }\n",
       "</style>\n",
       "<table border=\"1\" class=\"dataframe\">\n",
       "  <thead>\n",
       "    <tr style=\"text-align: right;\">\n",
       "      <th></th>\n",
       "      <th>pickup_datetime</th>\n",
       "      <th>tip_amount</th>\n",
       "      <th>pickup_date</th>\n",
       "    </tr>\n",
       "  </thead>\n",
       "  <tbody>\n",
       "    <tr>\n",
       "      <th>0</th>\n",
       "      <td>2015-08-13T01:14:53.000</td>\n",
       "      <td>1.26</td>\n",
       "      <td>2015-08-13</td>\n",
       "    </tr>\n",
       "    <tr>\n",
       "      <th>1</th>\n",
       "      <td>2015-08-22T03:00:42.000</td>\n",
       "      <td>1.75</td>\n",
       "      <td>2015-08-22</td>\n",
       "    </tr>\n",
       "    <tr>\n",
       "      <th>2</th>\n",
       "      <td>2015-08-28T04:04:34.000</td>\n",
       "      <td>0.00</td>\n",
       "      <td>2015-08-28</td>\n",
       "    </tr>\n",
       "    <tr>\n",
       "      <th>3</th>\n",
       "      <td>2015-08-16T21:54:01.000</td>\n",
       "      <td>1.58</td>\n",
       "      <td>2015-08-16</td>\n",
       "    </tr>\n",
       "    <tr>\n",
       "      <th>4</th>\n",
       "      <td>2015-08-07T21:50:55.000</td>\n",
       "      <td>3.45</td>\n",
       "      <td>2015-08-07</td>\n",
       "    </tr>\n",
       "    <tr>\n",
       "      <th>5</th>\n",
       "      <td>2015-08-15T23:49:06.000</td>\n",
       "      <td>3.00</td>\n",
       "      <td>2015-08-15</td>\n",
       "    </tr>\n",
       "    <tr>\n",
       "      <th>6</th>\n",
       "      <td>2015-08-04T19:35:22.000</td>\n",
       "      <td>4.00</td>\n",
       "      <td>2015-08-04</td>\n",
       "    </tr>\n",
       "    <tr>\n",
       "      <th>7</th>\n",
       "      <td>2015-08-14T18:49:37.000</td>\n",
       "      <td>0.00</td>\n",
       "      <td>2015-08-14</td>\n",
       "    </tr>\n",
       "  </tbody>\n",
       "</table>\n",
       "</div>"
      ],
      "text/plain": [
       "           pickup_datetime  tip_amount pickup_date\n",
       "0  2015-08-13T01:14:53.000        1.26  2015-08-13\n",
       "1  2015-08-22T03:00:42.000        1.75  2015-08-22\n",
       "2  2015-08-28T04:04:34.000        0.00  2015-08-28\n",
       "3  2015-08-16T21:54:01.000        1.58  2015-08-16\n",
       "4  2015-08-07T21:50:55.000        3.45  2015-08-07\n",
       "5  2015-08-15T23:49:06.000        3.00  2015-08-15\n",
       "6  2015-08-04T19:35:22.000        4.00  2015-08-04\n",
       "7  2015-08-14T18:49:37.000        0.00  2015-08-14"
      ]
     },
     "execution_count": 25,
     "metadata": {},
     "output_type": "execute_result"
    }
   ],
   "source": [
    "taxi_data.head(8)"
   ]
  },
  {
   "cell_type": "code",
   "execution_count": 24,
   "metadata": {},
   "outputs": [],
   "source": [
    "taxi_data['pickup_date']=pd.to_datetime(taxi_data['pickup_datetime'], format=\"%Y-%m-%dT%H:%M:%S.000\").apply(lambda x: x.date())"
   ]
  },
  {
   "cell_type": "code",
   "execution_count": 26,
   "metadata": {},
   "outputs": [
    {
     "data": {
      "text/html": [
       "<div>\n",
       "<style scoped>\n",
       "    .dataframe tbody tr th:only-of-type {\n",
       "        vertical-align: middle;\n",
       "    }\n",
       "\n",
       "    .dataframe tbody tr th {\n",
       "        vertical-align: top;\n",
       "    }\n",
       "\n",
       "    .dataframe thead th {\n",
       "        text-align: right;\n",
       "    }\n",
       "</style>\n",
       "<table border=\"1\" class=\"dataframe\">\n",
       "  <thead>\n",
       "    <tr style=\"text-align: right;\">\n",
       "      <th></th>\n",
       "      <th>tip_amount</th>\n",
       "      <th>pickup_date</th>\n",
       "    </tr>\n",
       "  </thead>\n",
       "  <tbody>\n",
       "    <tr>\n",
       "      <th>0</th>\n",
       "      <td>1.26</td>\n",
       "      <td>2015-08-13</td>\n",
       "    </tr>\n",
       "    <tr>\n",
       "      <th>1</th>\n",
       "      <td>1.75</td>\n",
       "      <td>2015-08-22</td>\n",
       "    </tr>\n",
       "    <tr>\n",
       "      <th>2</th>\n",
       "      <td>0.00</td>\n",
       "      <td>2015-08-28</td>\n",
       "    </tr>\n",
       "    <tr>\n",
       "      <th>3</th>\n",
       "      <td>1.58</td>\n",
       "      <td>2015-08-16</td>\n",
       "    </tr>\n",
       "    <tr>\n",
       "      <th>4</th>\n",
       "      <td>3.45</td>\n",
       "      <td>2015-08-07</td>\n",
       "    </tr>\n",
       "    <tr>\n",
       "      <th>5</th>\n",
       "      <td>3.00</td>\n",
       "      <td>2015-08-15</td>\n",
       "    </tr>\n",
       "    <tr>\n",
       "      <th>6</th>\n",
       "      <td>4.00</td>\n",
       "      <td>2015-08-04</td>\n",
       "    </tr>\n",
       "    <tr>\n",
       "      <th>7</th>\n",
       "      <td>0.00</td>\n",
       "      <td>2015-08-14</td>\n",
       "    </tr>\n",
       "  </tbody>\n",
       "</table>\n",
       "</div>"
      ],
      "text/plain": [
       "   tip_amount pickup_date\n",
       "0        1.26  2015-08-13\n",
       "1        1.75  2015-08-22\n",
       "2        0.00  2015-08-28\n",
       "3        1.58  2015-08-16\n",
       "4        3.45  2015-08-07\n",
       "5        3.00  2015-08-15\n",
       "6        4.00  2015-08-04\n",
       "7        0.00  2015-08-14"
      ]
     },
     "execution_count": 26,
     "metadata": {},
     "output_type": "execute_result"
    }
   ],
   "source": [
    "taxi_data.drop('pickup_datetime',axis=1,inplace=True)\n",
    "taxi_data.head(8)"
   ]
  },
  {
   "cell_type": "markdown",
   "metadata": {},
   "source": [
    "# Plot the passenger count and tip amount across pickup date"
   ]
  },
  {
   "cell_type": "code",
   "execution_count": 27,
   "metadata": {},
   "outputs": [
    {
     "data": {
      "text/plain": [
       "tip_amount     float64\n",
       "pickup_date     object\n",
       "dtype: object"
      ]
     },
     "execution_count": 27,
     "metadata": {},
     "output_type": "execute_result"
    }
   ],
   "source": [
    "#fix object types\n",
    "taxi_data['tip_amount']=taxi_data['tip_amount'].astype(float)\n",
    "#taxi_data['pickup_date']=taxi_data['pickup_date'].astype('datetime64[ns]')\n",
    "taxi_data.dtypes"
   ]
  },
  {
   "cell_type": "markdown",
   "metadata": {},
   "source": []
  },
  {
   "cell_type": "code",
   "execution_count": 28,
   "metadata": {},
   "outputs": [
    {
     "data": {
      "image/png": "[encoded data removed]",
      "text/plain": [
       "<Figure size 1440x576 with 1 Axes>"
      ]
     },
     "metadata": {
      "needs_background": "light"
     },
     "output_type": "display_data"
    }
   ],
   "source": [
    "plt.figure(figsize=(20,8))\n",
    "plt.gcf().autofmt_xdate()\n",
    "plt.title('Average tips per day for the August 2015 for Yellow Taxis',fontsize=35)\n",
    "#plt.plot(taxi_data.pickup_date.unique()\n",
    "#         ,taxi_data.groupby(['pickup_date'], sort=True)['tip_amount'].mean(),'o')\n",
    "#taxi_data.groupby(['pickup_date'], sort=True)['tip_amount'].mean().plot()\n",
    "plt.scatter(taxi_data.pickup_date.unique()\n",
    "         ,taxi_data.groupby(['pickup_date'], sort=True)['tip_amount'].mean())\n",
    "plt.xlabel('Dates', fontsize=25)\n",
    "plt.ylabel('Average Tips', fontsize=25)\n",
    "plt.show()"
   ]
  }
 ],
 "metadata": {
  "kernelspec": {
   "display_name": "Python 3",
   "language": "python",
   "name": "python3"
  },
  "language_info": {
   "codemirror_mode": {
    "name": "ipython",
    "version": 3
   },
   "file_extension": ".py",
   "mimetype": "text/x-python",
   "name": "python",
   "nbconvert_exporter": "python",
   "pygments_lexer": "ipython3",
   "version": "3.6.6"
  }
 },
 "nbformat": 4,
 "nbformat_minor": 2
}
