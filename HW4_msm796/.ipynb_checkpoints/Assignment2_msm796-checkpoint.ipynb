{
 "cells": [
  {
   "cell_type": "code",
   "execution_count": 9,
   "metadata": {},
   "outputs": [],
   "source": [
    "#/home/pui_user/PUI2018_msm796/HW4_msm796\n",
    "#declare libraries\n",
    "try:\n",
    "    import urllib2 as urllib\n",
    "except ImportError:\n",
    "    import urllib.request as urllib\n",
    "import datetime\n",
    "from dateutil.relativedelta import relativedelta #DOWNLOAD THIS PACKAGE#\n",
    "import os\n",
    "import requests #DOWNLOAD THIS PACKAGE#\n",
    "import zipfile #DOWNLOAD THIS PACKAGE#\n",
    "import io #DOWNLOAD THIS PACKAGE#\n",
    "import pandas as pd\n",
    "\n",
    "#library#\n",
    "    \n",
    "#declare parameters\n",
    "puidata = os.getenv(\"PUIDATA\")\n",
    "if puidata is None:\n",
    "    os.environ[\"PUIDATA\"] = \"%s/PUIdata\"%os.getenv(\"HOME\")\n",
    "    puidata = os.getenv(\"PUIDATA\")\n",
    "\n",
    "#declare helper functions\n",
    "def download_citibike_data(yearstart,yearend,monthstart,monthend,output_path):\n",
    "    '''\n",
    "    change log:\n",
    "    \n",
    "    version 1.0 - Downloads citibike datasets zip files and unzips them. does checking if file already\n",
    "    exists in path. currently has no input error handling logic.\n",
    "    ---------------------------------------------------------------------------------------------\n",
    "    Parameters:\n",
    "    name - type - description\n",
    "    yearstart - <int> - refers to the year where you want your download to start\n",
    "    yearend - <int> - refers to the year where you want your download to start\n",
    "    monthstart - <int> - refers to the month ssociated with yearstart where you want your download to start\n",
    "    monthend - <int> - refers to the month associated with yearend where you want your download to start\n",
    "    outputpath - <str> - refers to location where you want to dump the csv files\n",
    "    \n",
    "    example usage:\n",
    "    download_citibike_data(2013,2018,6,8,puidata)\n",
    "    - this downloads the citibike datasets from June 2013 to August 2018. Files will be unzipped at\n",
    "    the puidata location.\n",
    "    \n",
    "    required libraries:\n",
    "    datautil - required for year & month generation\n",
    "    requests - for downloading the zip file\n",
    "    zipfile - to unzip the file\n",
    "    io - to read binary data and give it to zipfile; effectly keeping the entire process in memory\n",
    "    '''\n",
    "    #might include in error handling in the future for incorrect input\n",
    "    curr_date = start_date=datetime.datetime(yearstart,monthstart,1).date()\n",
    "    end_date=datetime.datetime(yearend,monthend,1).date()\n",
    "    year_month=[start_date.strftime('%Y%m')]\n",
    "    base_citi_url='https://s3.amazonaws.com/tripdata/'\n",
    "    while curr_date < end_date:\n",
    "        curr_date += relativedelta(months=1)\n",
    "        year_month.append(curr_date.strftime('%Y%m'))\n",
    "    for x in year_month:\n",
    "    #need to change logic as csv filename convention isn't done properly#\n",
    "    #will just base on dates found in directory#\n",
    "        filename=x+\"-citibike-tripdata.csv\"\n",
    "        if os.path.isfile(output_path+\"/\"+filename)==True:\n",
    "            print(\"{} already exists!\".format(filename))\n",
    "        else:\n",
    "            print(\"Downloading {}\".format(filename))\n",
    "            year=int(x[:4])\n",
    "            if year>=2017:\n",
    "                ending=\".csv.zip\"\n",
    "            else:\n",
    "                ending=\".zip\"\n",
    "            url=base_citi_url+x+\"-citibike-tripdata\"+ending\n",
    "            r = requests.get(url, stream=True)\n",
    "            z = zipfile.ZipFile(io.BytesIO(r.content))\n",
    "            z.extractall(output_path)\n",
    "            \n",
    "def append_all_citi_bike_data(input_path):\n",
    "    '''\n",
    "    change log:\n",
    "    \n",
    "    version 1.0 - <stuff>. Does checking if file already\n",
    "    exists in path. currently has no input error handling logic.\n",
    "\n",
    "    Parameters:\n",
    "    name - type - description\n",
    "    \n",
    "    input_path - <str> - location where the csv files are stored\n",
    "    -Naively appends all files into one superfile\n",
    "    \n",
    "    required libraries:\n",
    "    pandas - the output will be a dataframe, also used to load the files\n",
    "    '''\n",
    "    #currently implementing\n",
    "    files_directory=os.listdir(input_path)\n",
    "    csv_files = [x for x in files_directory if \".csv\" in x]\n",
    "    super_csv = pd.concat([pd.read_csv(input_path+\"/\"+f) for f in csv_files])\n",
    "    return super_csv"
   ]
  },
  {
   "cell_type": "code",
   "execution_count": 6,
   "metadata": {},
   "outputs": [
    {
     "name": "stdout",
     "output_type": "stream",
     "text": [
      "['201705-citibike-tripdata.csv', '201507-citibike-tripdata.csv', '201601-citibike-tripdata.csv', '201411-citibike-tripdata.csv', '201702-citibike-tripdata.csv', '201512-citibike-tripdata.csv', '2013-12 - Citi Bike trip data.csv', '201704-citibike-tripdata.csv', '201606-citibike-tripdata.csv', '201710-citibike-tripdata.csv', '201607-citibike-tripdata.csv', '2014-05 - Citi Bike trip data.csv', '201504-citibike-tripdata.csv', '201509-citibike-tripdata.csv', '2013-07 - Citi Bike trip data.csv', '2013-08 - Citi Bike trip data.csv', '201806-citibike-tripdata.csv', '201711-citibike-tripdata.csv', '201410-citibike-tripdata.csv', '2014-04 - Citi Bike trip data.csv', '2013-09 - Citi Bike trip data.csv', '201802-citibike-tripdata.csv', '2014-03 - Citi Bike trip data.csv', '201808-citibike-tripdata.csv', '2013-11 - Citi Bike trip data.csv', '201306-citibike-tripdata.csv', '201503-citibike-tripdata.csv', '201610-citibike-tripdata.csv', '2014-08 - Citi Bike trip data.csv', '2014-06 - Citi Bike trip data.csv', '201807-citibike-tripdata.csv', '201804-citibike-tripdata.csv', '201501-citibike-tripdata.csv', '201706-citibike-tripdata.csv', '201707-citibike-tripdata.csv', '2013-10 - Citi Bike trip data.csv', '201805-citibike-tripdata.csv', '201604-citibike-tripdata.csv', '201703-citibike-tripdata.csv', '201605-citibike-tripdata.csv', '2014-02 - Citi Bike trip data.csv', '201612-citibike-tripdata.csv', '201709-citibike-tripdata.csv', '201412-citibike-tripdata.csv', '201602-citibike-tripdata.csv', '201510-citibike-tripdata.csv', '201701-citibike-tripdata.csv', '201712-citibike-tripdata.csv', '201803-citibike-tripdata.csv', '201508-citibike-tripdata.csv', '201506-citibike-tripdata.csv', '201603-citibike-tripdata.csv', '201502-citibike-tripdata.csv', '201801-citibike-tripdata.csv', '2014-01 - Citi Bike trip data.csv', '201611-citibike-tripdata.csv', '2014-07 - Citi Bike trip data.csv', '201708-citibike-tripdata.csv', '201608-citibike-tripdata.csv', '201609-citibike-tripdata.csv', '201505-citibike-tripdata.csv', '201409-citibike-tripdata.csv', '201511-citibike-tripdata.csv']\n"
     ]
    }
   ],
   "source": [
    "files_directory=os.listdir(puidata)\n",
    "csv_files = [x for x in files_directory if \".csv\" in x]\n",
    "print(csv_files)"
   ]
  },
  {
   "cell_type": "code",
   "execution_count": null,
   "metadata": {},
   "outputs": [],
   "source": [
    "#downloads from beginning to latest available as of late September\n",
    "#download_citibike_data(2013,2018,6,8,puidata)\n",
    "complete_set=append_all_citi_bike_data(puidata)"
   ]
  },
  {
   "cell_type": "code",
   "execution_count": null,
   "metadata": {},
   "outputs": [],
   "source": []
  }
 ],
 "metadata": {
  "kernelspec": {
   "display_name": "Python 3",
   "language": "python",
   "name": "python3"
  },
  "language_info": {
   "codemirror_mode": {
    "name": "ipython",
    "version": 3
   },
   "file_extension": ".py",
   "mimetype": "text/x-python",
   "name": "python",
   "nbconvert_exporter": "python",
   "pygments_lexer": "ipython3",
   "version": "3.6.6"
  }
 },
 "nbformat": 4,
 "nbformat_minor": 2
}
