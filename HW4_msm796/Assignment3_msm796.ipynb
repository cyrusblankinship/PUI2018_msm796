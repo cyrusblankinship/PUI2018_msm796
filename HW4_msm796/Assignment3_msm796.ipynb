{
 "cells": [
  {
   "cell_type": "markdown",
   "metadata": {},
   "source": [
    "# FORMULATE THE NULL AND ALTERNATIVE HYPOTHESIS\n",
    "$H_0: \\mu_{old} - \\mu_{new} \\leq 0$\n",
    "###### The new bus routes had no effect to travel time.\n",
    "\n",
    "$H_A: \\mu_{old} - \\mu_{new} > 0$\n",
    "###### The new bus routes had decreased travel time."
   ]
  },
  {
   "cell_type": "markdown",
   "metadata": {},
   "source": [
    "# LOAD THE DATA AND COMPUTE Z-STATISTIC"
   ]
  },
  {
   "cell_type": "code",
   "execution_count": 2,
   "metadata": {},
   "outputs": [
    {
     "name": "stdout",
     "output_type": "stream",
     "text": [
      "Sample mean: 34.4661616883\n",
      "Sample SD: 7.137280133751879\n",
      "Population mean: 36\n",
      "Population SD: 6\n",
      "Z-score: 2.55639718616667\n"
     ]
    }
   ],
   "source": [
    "#declare libraries\n",
    "import statistics as stat\n",
    "import math\n",
    "try:\n",
    "    import urllib2 as urllib\n",
    "except ImportError:\n",
    "    import urllib.request as urllib\n",
    "import matplotlib.pyplot as plt\n",
    "import numpy as np\n",
    "import matplotlib.mlab as mlab\n",
    "    \n",
    "#declare params\n",
    "url='https://raw.githubusercontent.com/fedhere/PUI2018_fb55/717cb525061d7f9844156a23e0cbe2a926e2fb23/Lab4_fb55/times.txt'    \n",
    "\n",
    "#load my data\n",
    "stuff = urllib.urlopen(url)\n",
    "\n",
    "times=[float(x.decode(\"utf-8\").replace('\\n','')) for x in stuff]\n",
    "\n",
    "samp_mean=stat.mean(times)\n",
    "samp_sd=stat.stdev(times)\n",
    "pop_mean=36\n",
    "pop_sd=6\n",
    "z_score=(pop_mean-samp_mean)/(pop_sd/math.sqrt(len(times)))\n",
    "\n",
    "print(\"Sample mean: {}\\nSample SD: {}\\nPopulation mean: {}\\nPopulation SD: {}\\nZ-score: {}\"\\\n",
    "      .format(samp_mean,samp_sd,pop_mean,pop_sd,z_score))"
   ]
  },
  {
   "cell_type": "markdown",
   "metadata": {},
   "source": [
    "# So what does it all mean?\n",
    "### I had set $\\alpha = 0.05$ therefore the corresponding Z score of confidence threshold is is 1.65 since we're doing a one tail test. Since our resulting Z-score returns a value outside this region, thus we reject the null hypothesis "
   ]
  },
  {
   "cell_type": "code",
   "execution_count": null,
   "metadata": {},
   "outputs": [],
   "source": []
  }
 ],
 "metadata": {
  "kernelspec": {
   "display_name": "Python 3",
   "language": "python",
   "name": "python3"
  },
  "language_info": {
   "codemirror_mode": {
    "name": "ipython",
    "version": 3
   },
   "file_extension": ".py",
   "mimetype": "text/x-python",
   "name": "python",
   "nbconvert_exporter": "python",
   "pygments_lexer": "ipython3",
   "version": "3.6.6"
  }
 },
 "nbformat": 4,
 "nbformat_minor": 2
}
