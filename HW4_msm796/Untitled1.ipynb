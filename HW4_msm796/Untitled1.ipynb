{
 "cells": [
  {
   "cell_type": "code",
   "execution_count": 10,
   "metadata": {},
   "outputs": [
    {
     "data": {
      "text/plain": [
       "0"
      ]
     },
     "execution_count": 10,
     "metadata": {},
     "output_type": "execute_result"
    }
   ],
   "source": [
    "import subprocess as sp\n",
    "import os\n",
    "\n",
    "puidata = os.getenv(\"PUIDATA\")\n",
    "if puidata is None:\n",
    "    os.environ[\"PUIDATA\"] = \"%s/PUIdata\"%os.getenv(\"HOME\")\n",
    "    puidata = os.getenv(\"PUIDATA\")\n",
    "    \n",
    "cmd=\"sed 1d \"+puidata+\"/201701* > \"+puidata+\"/test_.csv\"\n",
    "sp.call(cmd,shell=True)\n",
    "cmd2=\"cat \"+puidata+\"/201702* test_.csv > \"+puidata+\"/append_test.csv\"\n",
    "sp.call(cmd2,shell=True)\n",
    "cmd3=\"rm \"+puidata+\"/test_.csv\"\n",
    "sp.call(cmd3,shell=True)"
   ]
  },
  {
   "cell_type": "code",
   "execution_count": 4,
   "metadata": {},
   "outputs": [
    {
     "data": {
      "text/plain": [
       "'/nfshome/msm796/PUIdata'"
      ]
     },
     "execution_count": 4,
     "metadata": {},
     "output_type": "execute_result"
    }
   ],
   "source": [
    "puidata"
   ]
  },
  {
   "cell_type": "code",
   "execution_count": null,
   "metadata": {},
   "outputs": [],
   "source": []
  }
 ],
 "metadata": {
  "kernelspec": {
   "display_name": "Python 3",
   "language": "python",
   "name": "python3"
  },
  "language_info": {
   "codemirror_mode": {
    "name": "ipython",
    "version": 3
   },
   "file_extension": ".py",
   "mimetype": "text/x-python",
   "name": "python",
   "nbconvert_exporter": "python",
   "pygments_lexer": "ipython3",
   "version": "3.6.6"
  }
 },
 "nbformat": 4,
 "nbformat_minor": 2
}
